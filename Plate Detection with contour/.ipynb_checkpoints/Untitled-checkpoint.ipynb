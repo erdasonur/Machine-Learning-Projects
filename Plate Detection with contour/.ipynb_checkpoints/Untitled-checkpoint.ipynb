{
 "cells": [
  {
   "cell_type": "code",
   "execution_count": 1,
   "metadata": {},
   "outputs": [
    {
     "name": "stdout",
     "output_type": "stream",
     "text": [
      "True\n"
     ]
    }
   ],
   "source": [
    "import cv2\n",
    "import numpy as np\n",
    "from imutils import contours\n",
    "\n",
    "\n",
    "def detect_image():\n",
    "    image = cv2.imread('./image/car.jpg')\n",
    "    # resized = cv2. resize(image,(410,620))\n",
    "    height, width, _ = image.shape\n",
    "\n",
    "    image_gray = cv2.cvtColor(image, cv2.COLOR_BGR2GRAY)  # Goruntuyu griye cevirme islemi\n",
    "    noise_decrease = cv2.bilateralFilter(image_gray, 9, 75, 75)  # Gurultu azaltma islemi\n",
    "    gaussian_blur = cv2.GaussianBlur(noise_decrease, (5, 5), 0)\n",
    "    histogram = cv2.equalizeHist(gaussian_blur)  # Histogram esitleme islemi\n",
    "    kernelForOpening = cv2.getStructuringElement(cv2.MORPH_RECT, (5, 5))\n",
    "    morphology = cv2.morphologyEx(histogram, cv2.MORPH_OPEN, kernelForOpening,\n",
    "                                  iterations=15)  # kernel matrisi ile acma islemi yapilmaktadir\n",
    "    image_subtraction = cv2.subtract(histogram,\n",
    "                                     morphology)  # Iki resim arasindaki degisikleri saptamak icin morfolojik goruntuyu histogram esitleme goruntusunden cikarma islemi\n",
    "    ret, otsu_thresholding = cv2.threshold(image_subtraction, 0, 255,\n",
    "                                           cv2.THRESH_OTSU)  # resmi belli bir esik degerine gore siyah beyaz renklerine donusturme islemi\n",
    "    canny_edge = cv2.Canny(otsu_thresholding, 250, 255)  # kenar algilama islemi icin canny edge detection islemi yapildi\n",
    "    canny_edge = cv2.convertScaleAbs(canny_edge)\n",
    "    kernelForDilation = np.ones((3, 3), np.uint8)\n",
    "    dilation = cv2.dilate(canny_edge, kernelForDilation,\n",
    "                          iterations=1)  # resim genisletme islemi 3,3luk kernel matrisiyle resmi gezip siyah olan piksellerin beyaz pikselleri siyaha cevirme islemi\n",
    "\n",
    "    img = image\n",
    "    cnts = cv2.findContours(dilation, cv2.RETR_TREE, cv2.CHAIN_APPROX_SIMPLE)\n",
    "    cnts = cnts[0] if len(cnts) == 2 else cnts[1]\n",
    "    cnts, _ = contours.sort_contours(cnts, method=\"left-to-right\")\n",
    "    counter = 0\n",
    "    ROI = image[0:10, 20:30]\n",
    "    for c in cnts:\n",
    "\n",
    "        area = cv2.contourArea(c)\n",
    "        x, y, w, h = cv2.boundingRect(c)\n",
    "        center_y = y + h / 2\n",
    "\n",
    "        if area > (image.shape[0] + image.shape[1]) * 3 and (w > h) and center_y > height / 2:\n",
    "            ROI = image[y:y + h, x:x + w]\n",
    "            a, b, e, d = cv2.boundingRect(c)\n",
    "            counter = 1\n",
    "\n",
    "        # final = cv2.rectangle(img, (x,y), (x+w,y+h), (0, 0, 255), 3)\n",
    "    if counter == 1:\n",
    "        cv2.imwrite(\"image/detected.jpg\", ROI)\n",
    "        return True\n",
    "    else:\n",
    "        print('the plate couldnt be detected there is not any plate in photo or you should take clear picture of car')\n",
    "        return False\n",
    "print(detect_image())"
   ]
  },
  {
   "cell_type": "code",
   "execution_count": null,
   "metadata": {},
   "outputs": [],
   "source": []
  }
 ],
 "metadata": {
  "kernelspec": {
   "display_name": "Python 3",
   "language": "python",
   "name": "python3"
  },
  "language_info": {
   "codemirror_mode": {
    "name": "ipython",
    "version": 3
   },
   "file_extension": ".py",
   "mimetype": "text/x-python",
   "name": "python",
   "nbconvert_exporter": "python",
   "pygments_lexer": "ipython3",
   "version": "3.6.9"
  }
 },
 "nbformat": 4,
 "nbformat_minor": 2
}
